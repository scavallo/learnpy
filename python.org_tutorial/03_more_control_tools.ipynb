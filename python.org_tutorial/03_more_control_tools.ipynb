{
 "metadata": {
  "name": "03. More Control Tools"
 },
 "nbformat": 3,
 "nbformat_minor": 0,
 "worksheets": [
  {
   "cells": [
    {
     "cell_type": "markdown",
     "metadata": {},
     "source": [
      "# More Control Flow Tools\n",
      "\n",
      "Besides the `while` statement just introduced, Python knows the usual control flow statements known from other languages, with some twists.\n",
      "\n",
      "-----\n",
      "## `if` Statements\n",
      "Perhaps the most well-known statement type is the `if` statement. For example:"
     ]
    },
    {
     "cell_type": "code",
     "collapsed": false,
     "input": [
      "x = 42        # Change this number to any number\n",
      "if x < 0:\n",
      "    x = 0\n",
      "    print 'Negative changed to zero'\n",
      "elif x == 0:\n",
      "    print 'Zero'\n",
      "elif x == 1:\n",
      "    print 'Single'\n",
      "else:\n",
      "    print 'More'\n",
      "    "
     ],
     "language": "python",
     "metadata": {},
     "outputs": []
    },
    {
     "cell_type": "markdown",
     "metadata": {},
     "source": [
      "There can be zero or more `elif` parts, and the `else` part is optional. The keyword `elif` is short for \"else if\"."
     ]
    },
    {
     "cell_type": "markdown",
     "metadata": {},
     "source": [
      "-----\n",
      "## `for` Statements\n",
      "\n",
      "The `for` statement in Python differs a bit from what you may be used to in other languages. Rather than always iterating over an arithmetic progression of numbers, or giving the user the ability to define both the iteration step and halting condition, Python's `for` statement iterates over the items of any sequence (a list or a string), in the order that they appear in the sequence. For example:"
     ]
    },
    {
     "cell_type": "code",
     "collapsed": false,
     "input": [
      "# Measure some strings:\n",
      "a = ['cat', 'window', 'defenestrate']\n",
      "for x in a:\n",
      "    print x, len(x)"
     ],
     "language": "python",
     "metadata": {},
     "outputs": []
    },
    {
     "cell_type": "markdown",
     "metadata": {},
     "source": [
      "It is not safe to modify the sequence being iterated over in the loop (this can only happen for mutable sequence types, such as lists). If you need to modify the list you are iterating over (for example, to duplicate selected items) you must iterate over a copy. The slice notation makes this particularly convenient:"
     ]
    },
    {
     "cell_type": "code",
     "collapsed": false,
     "input": [
      "a"
     ],
     "language": "python",
     "metadata": {},
     "outputs": []
    },
    {
     "cell_type": "code",
     "collapsed": false,
     "input": [
      "for x in a[:]:  # Make a slice copy of the entire list\n",
      "    if len(x) > 6: a.insert(0, x)"
     ],
     "language": "python",
     "metadata": {},
     "outputs": []
    },
    {
     "cell_type": "code",
     "collapsed": false,
     "input": [
      "a"
     ],
     "language": "python",
     "metadata": {},
     "outputs": []
    },
    {
     "cell_type": "markdown",
     "metadata": {},
     "source": [
      "-----\n",
      "## The `range()` Function\n",
      "\n",
      "If you do need to iterate over a sequence of numbers, the built-in function `range()` comes in handy. It generates lists containing arithmetic progressions:"
     ]
    },
    {
     "cell_type": "code",
     "collapsed": false,
     "input": [
      "range(10)"
     ],
     "language": "python",
     "metadata": {},
     "outputs": []
    },
    {
     "cell_type": "markdown",
     "metadata": {},
     "source": [
      "The given end point is never part of the generated list; `range(10)` generates a list of 10 values, the legal indices for items of a sequence of length 10. It is possible to let the range start at another number, or to specify a different increment (even negative; sometimes this is called the \u2018step\u2019):"
     ]
    },
    {
     "cell_type": "code",
     "collapsed": false,
     "input": [
      "range(5, 10)"
     ],
     "language": "python",
     "metadata": {},
     "outputs": []
    },
    {
     "cell_type": "code",
     "collapsed": false,
     "input": [
      "range(0, 10, 3)"
     ],
     "language": "python",
     "metadata": {},
     "outputs": []
    },
    {
     "cell_type": "code",
     "collapsed": false,
     "input": [
      "range(-10, -100, -30)"
     ],
     "language": "python",
     "metadata": {},
     "outputs": []
    },
    {
     "cell_type": "markdown",
     "metadata": {},
     "source": [
      "To iterate over the indices of a sequence, you can combine `range()` and `len()` as follows:"
     ]
    },
    {
     "cell_type": "code",
     "collapsed": false,
     "input": [
      "a = ['Mary', 'had', 'a', 'little', 'lamb']\n",
      "for i in range(len(a)):\n",
      "    print i, a[i]"
     ],
     "language": "python",
     "metadata": {},
     "outputs": []
    },
    {
     "cell_type": "markdown",
     "metadata": {},
     "source": [
      "In this case, however, it is possible to use the convenient `enumerate()` function:"
     ]
    },
    {
     "cell_type": "code",
     "collapsed": false,
     "input": [
      "for i, x, in enumerate(a):\n",
      "    print i, x"
     ],
     "language": "python",
     "metadata": {},
     "outputs": []
    },
    {
     "cell_type": "markdown",
     "metadata": {},
     "source": [
      "-----\n",
      "## `break` and `continue` Statements\n",
      "\n",
      "The `break` statement breaks out of the smallest enclosing `for` or `while` loop.\n",
      "\n",
      "Loop statements may have an `else` clause; it is executed when the loop terminates through exhaustion of the list (with `for`) or when the condition becomes false (with `while`), but not when the loop is terminated by a `break` statement. This is exemplified by the following loop, which searches for prime numbers:"
     ]
    },
    {
     "cell_type": "code",
     "collapsed": false,
     "input": [
      "for n in range(2, 15):\n",
      "    for x in range(2, n):\n",
      "        if n % x == 0:\n",
      "            print n, 'equals', x, '*', n/x\n",
      "            break\n",
      "    else:\n",
      "        # Loop didn't encounter break, must be prime number\n",
      "        print n, 'is a prime number'"
     ],
     "language": "python",
     "metadata": {},
     "outputs": []
    },
    {
     "cell_type": "markdown",
     "metadata": {},
     "source": [
      "(Yes, this is the correct code. Look closely: the `else` clause belongs to the `for` loop <b>not</b> the `if` statement.)\n",
      "\n",
      "When used with a loop, the `else` clause has more in common with the else clause of a `try` statement than it does that of `if` statements: a `try` statement\u2019s `else` clause runs when no exception occurs, and a loop's `else` clause runs when no `break` occurs. \n",
      "\n",
      "The `continue` statement continues with the next iteration of the loop:"
     ]
    },
    {
     "cell_type": "code",
     "collapsed": false,
     "input": [
      "for num in range(2, 10):\n",
      "    if num % 2 == 0:\n",
      "        print \"Found an even number\", num\n",
      "        continue\n",
      "    print \"Found an odd number\", num"
     ],
     "language": "python",
     "metadata": {},
     "outputs": []
    },
    {
     "cell_type": "markdown",
     "metadata": {},
     "source": [
      "## `pass` Statements\n",
      "\n",
      "The `pass` statement does nothing. It can be used when a statement is required syntactically but the program requires no action. For example:"
     ]
    },
    {
     "cell_type": "code",
     "collapsed": false,
     "input": [
      "while True:\n",
      "    pass        # Busy -- wait for interrupt (Kernel Menu [up at top] --> Interrupt)"
     ],
     "language": "python",
     "metadata": {},
     "outputs": []
    },
    {
     "cell_type": "markdown",
     "metadata": {},
     "source": [
      "This is commonly used as a place-holder for a function or conditional body when you are workng on new code, allowing you to keep thinking at a more abstract level. The `pass` is silently ignored:"
     ]
    },
    {
     "cell_type": "code",
     "collapsed": false,
     "input": [
      "def initlog(*args):\n",
      "    pass        # Remember to implement this!"
     ],
     "language": "python",
     "metadata": {},
     "outputs": []
    },
    {
     "cell_type": "markdown",
     "metadata": {},
     "source": [
      "-----\n",
      "## Defining Functions\n",
      "\n",
      "We can create a function that writes the Finonacci series to an arbitrary boundary:"
     ]
    },
    {
     "cell_type": "code",
     "collapsed": false,
     "input": [
      "def fib(n):    # Write Fibonacci series up to n\n",
      "    \"\"\"\n",
      "    Print a Fibonaccia series up to n.\n",
      "\n",
      "    \"\"\"\n",
      "    a, b = 0, 1\n",
      "    while a < n:\n",
      "        print a,\n",
      "        a, b = b, a+b"
     ],
     "language": "python",
     "metadata": {},
     "outputs": []
    },
    {
     "cell_type": "code",
     "collapsed": false,
     "input": [
      "# Now call the function we just defined:\n",
      "fib(2000)"
     ],
     "language": "python",
     "metadata": {},
     "outputs": []
    },
    {
     "cell_type": "markdown",
     "metadata": {},
     "source": [
      "The keyword `def` introduces a function *definition*. It must be followed by the function name and the parenthesized list of formal parameters. The statements that form the body of the function start at the next line, and must be indented.\n",
      "\n",
      "The first statement of the function body can optionally be a string literal; this string literal is the function\u2019s documentation string, or *docstring*. There are tools which use docstrings to automatically produce online or printed documentation, or to let the user interactively browse through code; it\u2019s good practice to include docstrings in code that you write, so make a habit of it.\n",
      "\n",
      "The *execution* of a function introduces a new symbol table used for the local variables of the function. More precisely, all variable assignments in a function store the value in the local symbol table; whereas variable references first look in the local symbol table, then in the local symbol tables of enclosing functions, then in the global symbol table, and finally in the table of built-in names. Thus, global variables cannot be directly assigned a value within a function (unless named in a global statement), although they may be referenced.\n",
      "\n",
      "The actual parameters (arguments) to a function call are introduced in the local symbol table of the called function when it is called; thus, arguments are passed using *call* by *value* (where the *value* is always an object *reference*, not the value of the object). When a function calls another function, a new local symbol table is created for that call.\n",
      "\n",
      "A function definition introduces the function name in the current symbol table. The value of the function name has a type that is recognized by the interpreter as a user-defined function. This value can be assigned to another name which can then also be used as a function. This serves as a general renaming mechanism:"
     ]
    },
    {
     "cell_type": "code",
     "collapsed": false,
     "input": [
      "fib"
     ],
     "language": "python",
     "metadata": {},
     "outputs": []
    },
    {
     "cell_type": "code",
     "collapsed": false,
     "input": [
      "f = fib"
     ],
     "language": "python",
     "metadata": {},
     "outputs": []
    },
    {
     "cell_type": "code",
     "collapsed": false,
     "input": [
      "f(100)"
     ],
     "language": "python",
     "metadata": {},
     "outputs": []
    },
    {
     "cell_type": "markdown",
     "metadata": {},
     "source": [
      "Coming from other languages, you might object that `fib` is not a function but a procedure since it doesn't return a value. In fact, even functions without a `return` statement do return a value, albeit a rather boring one. This value is called `None` (it's a built-in name). Writing the value `None` is normally suppressed by the interprettor if it would be the only value written. You can see it if you really want to using `print`:"
     ]
    },
    {
     "cell_type": "code",
     "collapsed": false,
     "input": [
      "fib(0)"
     ],
     "language": "python",
     "metadata": {},
     "outputs": []
    },
    {
     "cell_type": "code",
     "collapsed": false,
     "input": [
      "print fib(0)"
     ],
     "language": "python",
     "metadata": {},
     "outputs": []
    },
    {
     "cell_type": "markdown",
     "metadata": {},
     "source": [
      "It is simple to write a function that returns a list of the numbers of the Fibonacci series instead of printing it:"
     ]
    },
    {
     "cell_type": "code",
     "collapsed": false,
     "input": [
      "def fib2(n):        # return Fibonacci series up to n\n",
      "    \"\"\"\n",
      "    Return a list containing the Fibonacci series up to n.\n",
      "\n",
      "    \"\"\"\n",
      "    result = []\n",
      "    a, b = 0, 1\n",
      "    while a < n:\n",
      "        result.append(a)    # See text block below\n",
      "        a, b = b, a+b\n",
      "    return result"
     ],
     "language": "python",
     "metadata": {},
     "outputs": []
    },
    {
     "cell_type": "code",
     "collapsed": false,
     "input": [
      "f100 = fib2(100)\n",
      "print f100"
     ],
     "language": "python",
     "metadata": {},
     "outputs": []
    },
    {
     "cell_type": "markdown",
     "metadata": {},
     "source": [
      "This example demonstrates some new Python features:\n",
      "\n",
      "* The `return` statement returns with a value from a function. `return` without an expression returns `None`.\n",
      "<br /><br />\n",
      "\n",
      "* The statement `result.append(a)` calls a *method* of the list obect `result`. A method is a function that \"belongs\" to an object and is named `obj.methodname`, where `obj` is some object (this may be an expression), and `methodname` is the name of a method that is defined by the object's type. Different types define different methods. Methods of different types may have the same name without causing ambiguity. The method `append()` shown in the example is defined for list objects; it adds a new element at the end of the list. In this example it is equivalent to `result = result + [a]`, but more efficient."
     ]
    },
    {
     "cell_type": "markdown",
     "metadata": {},
     "source": [
      "-----\n",
      "## More on Defining Functions\n",
      "\n",
      "It is also possible to define functions with a variable number of arguments. There are three forms, which can be combined.\n",
      "\n",
      "-----\n",
      "### Default Argument Values"
     ]
    },
    {
     "cell_type": "code",
     "collapsed": false,
     "input": [
      "def ask_ok(prompt, retries=4, complaint='Yes or no, please!'):\n",
      "    while True:\n",
      "        ok = raw_input(prompt)\n",
      "        if ok in ('y', 'ye', 'yes'):\n",
      "            return True\n",
      "        if ok in ('n', 'no', 'nop', 'nope'):\n",
      "            return False\n",
      "        retries = retries - 1\n",
      "        if retries < 0:\n",
      "            raise IOError('refusenik user')\n",
      "        print complaint"
     ],
     "language": "python",
     "metadata": {},
     "outputs": []
    },
    {
     "cell_type": "markdown",
     "metadata": {},
     "source": [
      "This function can be called in several ways:\n",
      "\n",
      "* giving only the madatory argument: `ask_ok('Do you really want to quit?')\n",
      "\n",
      "* giving one of the optional arguments: `ask_ok('OK to overwrite the file?', 2)\n",
      "\n",
      "* or even giving all arguments: `ask_ok('OK to overwrite the file?', 2, 'Come on, only yes or no!')\n",
      "\n",
      "This example also introduces the `in` keyword. This tests whether or not a sequence contains a certain value.\n",
      "\n",
      "The default values are evaluated at the point of function definition in the *defining* scope, so that:"
     ]
    },
    {
     "cell_type": "code",
     "collapsed": false,
     "input": [
      "i = 5\n",
      "def f(arg=i):\n",
      "    print arg\n",
      "    \n",
      "i = 6\n",
      "f()"
     ],
     "language": "python",
     "metadata": {},
     "outputs": []
    },
    {
     "cell_type": "markdown",
     "metadata": {},
     "source": [
      "Notice how `f()` prints `5`.\n",
      "\n",
      "**Important warning:** The default value is evaluated only once. This makes a difference when the default is a mutable object such as a list, dictionary, or instances of most classes. For example, the following function accumulates the arguments passed to it on subsequent calls:"
     ]
    },
    {
     "cell_type": "code",
     "collapsed": false,
     "input": [
      "def f(a, L=[]):\n",
      "    L.append(a)\n",
      "    return L\n",
      "\n",
      "print f(1)\n",
      "print f(2)\n",
      "print f(3)"
     ],
     "language": "python",
     "metadata": {},
     "outputs": []
    },
    {
     "cell_type": "markdown",
     "metadata": {},
     "source": [
      "-----\n",
      "### Keyword Arguments\n",
      "\n",
      "Functions can also be called using *keyword arguments* of the form `kwarg=value`. For instance, the following function:"
     ]
    },
    {
     "cell_type": "code",
     "collapsed": false,
     "input": [
      "def parrot(voltage, state='a stiff', action='voom', type='Norwegian Blue'):\n",
      "    print \"-- This parrot wouldn't\", action,\n",
      "    print \"if you put\", voltage, \"volts through it.\"\n",
      "    print \"-- Lovely plumage, the\", type\n",
      "    print \"-- It's\", state, \"!\""
     ],
     "language": "python",
     "metadata": {},
     "outputs": []
    },
    {
     "cell_type": "markdown",
     "metadata": {},
     "source": [
      "accepts one required argument (`voltage`) and three optional arguments (`state`, `action`, and `type`). This function can be called in any of the following ways:"
     ]
    },
    {
     "cell_type": "code",
     "collapsed": false,
     "input": [
      "parrot(1000)                                          # 1 positional argument\n",
      "parrot(voltage=1000)                                  # 1 keyword argument\n",
      "parrot(voltage=1000000, action='VOOOOOM')             # 2 keyword arguments\n",
      "parrot(action='VOOOOOM', voltage=1000000)             # 2 keyword arguments\n",
      "parrot('a million', 'bereft of life', 'jump')         # 3 positional arguments\n",
      "parrot('a thousand', state='pushing up the daisies')  # 1 positional, 1 keyword"
     ],
     "language": "python",
     "metadata": {},
     "outputs": []
    },
    {
     "cell_type": "markdown",
     "metadata": {},
     "source": [
      "but all the following calls would be invalid:"
     ]
    },
    {
     "cell_type": "code",
     "collapsed": false,
     "input": [
      "parrot()                     # required argument missing"
     ],
     "language": "python",
     "metadata": {},
     "outputs": []
    },
    {
     "cell_type": "code",
     "collapsed": false,
     "input": [
      "parrot(voltage=5.0, 'dead')  # non-keyword argument after a keyword argument"
     ],
     "language": "python",
     "metadata": {},
     "outputs": []
    },
    {
     "cell_type": "code",
     "collapsed": false,
     "input": [
      "parrot(110, voltage=220)     # duplicate value for the same argument"
     ],
     "language": "python",
     "metadata": {},
     "outputs": []
    },
    {
     "cell_type": "code",
     "collapsed": false,
     "input": [
      "parrot(actor='John Cleese')  # unknown keyword argument"
     ],
     "language": "python",
     "metadata": {},
     "outputs": []
    },
    {
     "cell_type": "markdown",
     "metadata": {},
     "source": [
      "In a function call, keyword arguments must follow positional arguments. All the keyword arguments passed must match one of the arguments accepted by the function (e.g. `actor` is not a valid argument for the `parrot` function), and their order is not important. This also includes non-optional arguments (e.g. `parrot(voltage=1000)` is valid too). No argument may receive a value more than once. Here\u2019s an example that fails due to this restriction:"
     ]
    },
    {
     "cell_type": "code",
     "collapsed": false,
     "input": [
      "def function(a):\n",
      "    pass"
     ],
     "language": "python",
     "metadata": {},
     "outputs": []
    },
    {
     "cell_type": "code",
     "collapsed": false,
     "input": [
      "function(0, a=0)"
     ],
     "language": "python",
     "metadata": {},
     "outputs": []
    },
    {
     "cell_type": "markdown",
     "metadata": {},
     "source": [
      "When a final formal parameter of the form `**name` is present, it receives a dictionary containing all keyword arguments except for those corresponding to a formal parameter. This may be combined with a formal parameter of the form `*name` (described in the next subsection) which receives a tuple containing the positional arguments beyond the formal parameter list. (`*name` must occur before `**name`.) For example, if we define a function like this:"
     ]
    },
    {
     "cell_type": "code",
     "collapsed": false,
     "input": [
      "def cheeseshop(kind, *arguments, **keywords):\n",
      "    print \"-- Do you have any\", kind, \"?\"\n",
      "    print \"-- I'm sorry, we're all out of\", kind\n",
      "    for arg in arguments:\n",
      "        print arg\n",
      "    print \"-\" * 40\n",
      "    keys = sorted(keywords.keys())\n",
      "    for kw in keys:\n",
      "        print kw, \":\", keywords[kw]"
     ],
     "language": "python",
     "metadata": {},
     "outputs": []
    },
    {
     "cell_type": "markdown",
     "metadata": {},
     "source": [
      "It could be called like this:"
     ]
    },
    {
     "cell_type": "code",
     "collapsed": false,
     "input": [
      "cheeseshop(\"Limburger\", \"It's very runny, sir.\",\n",
      "           \"It's really very, VERY runny, sir.\",\n",
      "           shopkeeper='Michael Palin',\n",
      "           client=\"John Cleese\",\n",
      "           sketch=\"Cheese Shop Sketch\")"
     ],
     "language": "python",
     "metadata": {},
     "outputs": []
    },
    {
     "cell_type": "markdown",
     "metadata": {},
     "source": [
      "Note that the list of keyword argument names is created by sorting the result of the keywords dictionary\u2019s `keys()` method before printing its contents; if this is not done, the order in which the arguments are printed is undefined.\n",
      "\n",
      "-----\n",
      "### Arbitrary Argument Lists\n",
      "\n",
      "Finally, the least frequently used option is to specify that a function can be called with an arbitrary number of argumets. These arguments will be wrapped up in a tuple (similar to an immutable list). Before the variable number of arguments, zero or more normal arguments may occur."
     ]
    },
    {
     "cell_type": "code",
     "collapsed": false,
     "input": [
      "def write_multiple_items(file, separator, *args):\n",
      "    file.write(separator.join(args))"
     ],
     "language": "python",
     "metadata": {},
     "outputs": []
    },
    {
     "cell_type": "markdown",
     "metadata": {},
     "source": [
      "-----\n",
      "### Unpacking Argument Lists\n",
      "\n",
      "The reverse situation occurs when the arguments are already in a list or tuple but need to be unpacked for a function call requiring separate positional arguments. For instance, the built-in `range()` function expects separate *start* and *stop* arguments. If they are not available separately, write the function call with the *-operator to unpack the arguments out of a list or tuple:"
     ]
    },
    {
     "cell_type": "code",
     "collapsed": false,
     "input": [
      "range(3, 6)     # normal call with separate arguments"
     ],
     "language": "python",
     "metadata": {},
     "outputs": []
    },
    {
     "cell_type": "code",
     "collapsed": false,
     "input": [
      "args = [3, 6]\n",
      "range(*args)    # call with arguments unpacked from a list"
     ],
     "language": "python",
     "metadata": {},
     "outputs": []
    },
    {
     "cell_type": "markdown",
     "metadata": {},
     "source": [
      "In the same fashion, dictionaries can deliver keyword arguments with the `**-operator`:"
     ]
    },
    {
     "cell_type": "code",
     "collapsed": false,
     "input": [
      "def parrot(voltage, state='a stiff', action='voom'):\n",
      "    print \"-- This parrot wouldn't\", action,\n",
      "    print \"if you put\", voltage, \"volts through it.\",\n",
      "    print \"E's\", state, \"!\""
     ],
     "language": "python",
     "metadata": {},
     "outputs": []
    },
    {
     "cell_type": "code",
     "collapsed": false,
     "input": [
      "d = {\"voltage\": \"four million\", \"state\": \"bleedin' demised\", \"action\": \"VOOM\"}\n",
      "parrot(**d)"
     ],
     "language": "python",
     "metadata": {},
     "outputs": []
    },
    {
     "cell_type": "markdown",
     "metadata": {},
     "source": [
      "-----\n",
      "### Documentation Strings\n",
      "\n",
      "There are emerging conventions about the content and formatting of documentation strings.\n",
      "\n",
      "The first line should always be a short, concise summary of the object\u2019s purpose. For brevity, it should not explicitly state the object\u2019s name or type, since these are available by other means (except if the name happens to be a verb describing a function\u2019s operation). This line should begin with a capital letter and end with a period.\n",
      "\n",
      "If there are more lines in the documentation string, the second line should be blank, visually separating the summary from the rest of the description. The following lines should be one or more paragraphs describing the object\u2019s calling conventions, its side effects, etc.\n",
      "\n",
      "The Python parser does not strip indentation from multi-line string literals in Python, so tools that process documentation have to strip indentation if desired. This is done using the following convention. The first non-blank line *after* the first line of the string determines the amount of indentation for the entire documentation string. (We can\u2019t use the first line since it is generally adjacent to the string\u2019s opening quotes so its indentation is not apparent in the string literal.) Whitespace \u201cequivalent\u201d to this indentation is then stripped from the start of all lines of the string. Lines that are indented less should not occur, but if they occur all their leading whitespace should be stripped. Equivalence of whitespace should be tested after expansion of tabs (to 8 spaces, normally).\n",
      "\n",
      "Here is an example of a multi-line docstring:"
     ]
    },
    {
     "cell_type": "code",
     "collapsed": false,
     "input": [
      "def my_function():\n",
      "    \"\"\"Do nothing, but document it.\n",
      "\n",
      "    No, really, it doesn't do anything.\n",
      "    \"\"\"\n",
      "    pass\n"
     ],
     "language": "python",
     "metadata": {},
     "outputs": []
    },
    {
     "cell_type": "code",
     "collapsed": false,
     "input": [
      "print my_function.__doc__"
     ],
     "language": "python",
     "metadata": {},
     "outputs": []
    },
    {
     "cell_type": "markdown",
     "metadata": {},
     "source": [
      "-----\n",
      "## Coding Style\n",
      "\n",
      "Now that you are about to write longer, more complex pieces of Python, it is a good time to talk about *coding style*. Most languages can be written (or more concise, *formatted*) in different styles; some are more readable than others. Making it easy for others to read your code is always a good idea, and adopting a nice coding style helps tremendously for that.\n",
      "\n",
      "For Python, [PEP 8](http://www.python.org/dev/peps/pep-0008/) has emerged as the style guide that most projects adhere to; it promotes a very readable and eye-pleasing coding style. Every Python developer should read it at some point; here are the most important points extracted for you:\n",
      "\n",
      "* Use 4-space indentation, and no tabs.\n",
      "\n",
      "    4 spaces are a good compromise between small indentation (allows greater nesting depth) and large indentation (easier to read). Tabs introduce confusion, and are best left out.\n",
      "<br /><br />\n",
      "\n",
      "* Wrap lines so that they don\u2019t exceed 79 characters.\n",
      "\n",
      "    This helps users with small displays and makes it possible to have several code files side-by-side on larger displays.\n",
      "<br /><br />\n",
      "\n",
      "* Use blank lines to separate functions and classes, and larger blocks of code inside functions.\n",
      "<br /><br />\n",
      "\n",
      "* When possible, put comments on a line of their own.\n",
      "<br /><br />\n",
      "\n",
      "* Use docstrings.\n",
      "<br /><br />\n",
      "\n",
      "* Use spaces around operators and after commas, but not directly inside bracketing constructs: `a = f(1, 2) + g(3, 4)`.\n",
      "<br /><br />\n",
      "\n",
      "* Name your classes and functions consistently; the convention is to use `CamelCase` for classes and `lower_case_with_underscores` for functions and methods. Always use `self` as the name for the first method argument.\n",
      "<br /><br />\n",
      "\n",
      "* Don\u2019t use fancy encodings if your code is meant to be used in international environments. Plain ASCII works best in any case.\n"
     ]
    },
    {
     "cell_type": "code",
     "collapsed": false,
     "input": [],
     "language": "python",
     "metadata": {},
     "outputs": []
    }
   ],
   "metadata": {}
  }
 ]
}