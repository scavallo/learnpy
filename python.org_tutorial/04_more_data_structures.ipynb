{
 "metadata": {
  "name": "04. More Data Structures"
 },
 "nbformat": 3,
 "nbformat_minor": 0,
 "worksheets": [
  {
   "cells": [
    {
     "cell_type": "markdown",
     "metadata": {},
     "source": [
      "# Data Structures\n",
      "\n",
      "-----\n",
      "## More on Lists\n",
      "\n",
      "The list data type has some more methods. Here are all of the methods of list objects:\n",
      "\n",
      "    list.append(x)\n",
      "        \"Add an item to the end of the list; equivalent to a[len(a):] = [x].\"\n",
      "\n",
      "    list.extend(L)\n",
      "        \"Extend the list by appending all the items in the given list; equivalent to a[len(a):] = L.\"\n",
      "\n",
      "    list.insert(i, x)\n",
      "        \"Insert an item at a given position. The first argument is the index of the element before which to insert, so a.insert(0, x) inserts at the front of the list, and a.insert(len(a), x) is equivalent to a.append(x).\"\n",
      "\n",
      "    list.remove(x)\n",
      "        \"Remove the first item from the list whose value is x. It is an error if there is no such item.\"\n",
      "\n",
      "    list.pop([i])\n",
      "        \"Remove the item at the given position in the list, and return it. If no index is specified, a.pop() removes and returns the last item in the list. (The square brackets around the i in the method signature denote that the parameter is optional, not that you should type square brackets at that position. You will see this notation frequently in the Python Library Reference.)\"\n",
      "\n",
      "    list.index(x)\n",
      "        \"Return the index in the list of the first item whose value is x. It is an error if there is no such item.\"\n",
      "\n",
      "    list.count(x)\n",
      "        \"Return the number of times x appears in the list.\"\n",
      "\n",
      "    list.sort()\n",
      "        \"Sort the items of the list, in place.\"\n",
      "\n",
      "    list.reverse()\n",
      "        \"Reverse the elements of the list, in place.\"\n",
      "\n",
      "An example that uses most of the list methods:"
     ]
    },
    {
     "cell_type": "code",
     "collapsed": false,
     "input": [
      "a = [66.25, 333, 333, 1, 1234.5]\n",
      "print a.count(333), a.count(66.25), a.count('x')"
     ],
     "language": "python",
     "metadata": {},
     "outputs": []
    },
    {
     "cell_type": "code",
     "collapsed": false,
     "input": [
      "a.insert(2, -1)\n",
      "a.append(333)\n",
      "a"
     ],
     "language": "python",
     "metadata": {},
     "outputs": []
    },
    {
     "cell_type": "code",
     "collapsed": false,
     "input": [
      "a.index(333)"
     ],
     "language": "python",
     "metadata": {},
     "outputs": []
    },
    {
     "cell_type": "code",
     "collapsed": false,
     "input": [
      "a.remove(333)\n",
      "a"
     ],
     "language": "python",
     "metadata": {},
     "outputs": []
    },
    {
     "cell_type": "code",
     "collapsed": false,
     "input": [
      "a.reverse()\n",
      "a"
     ],
     "language": "python",
     "metadata": {},
     "outputs": []
    },
    {
     "cell_type": "code",
     "collapsed": false,
     "input": [
      "a.sort()\n",
      "a"
     ],
     "language": "python",
     "metadata": {},
     "outputs": []
    },
    {
     "cell_type": "markdown",
     "metadata": {},
     "source": [
      "-----\n",
      "List Comprehensions\n",
      "\n",
      "List comprehensions provide a concise way to create lists. Common applications are to make new lists where each element is the result of some operations applied to each member of another sequence or iterable, or to create a subsequence of those elements that satisfy a certain condition.\n",
      "\n",
      "For example, assume we want to create a list of squares, like:"
     ]
    },
    {
     "cell_type": "code",
     "collapsed": false,
     "input": [
      "squares = []\n",
      "for x in range(10):\n",
      "    squares.append(x**2)\n",
      "\n",
      "squares"
     ],
     "language": "python",
     "metadata": {},
     "outputs": []
    },
    {
     "cell_type": "markdown",
     "metadata": {},
     "source": [
      "We can obtain the same result with:"
     ]
    },
    {
     "cell_type": "code",
     "collapsed": false,
     "input": [
      "squares = [x**2 for x in range(10)]\n",
      "squares"
     ],
     "language": "python",
     "metadata": {},
     "outputs": []
    },
    {
     "cell_type": "markdown",
     "metadata": {},
     "source": [
      "This is also equivalent to `squares = map(lambda x: x**2, range(10))`, but it\u2019s more concise and readable.\n",
      "\n",
      "A list comprehension consists of brackets containing an expression followed by a `for` clause, then zero or more `for` or `if` clauses. The result will be a new list resulting from evaluating the expression in the context of the `for` and `if` clauses which follow it. For example, this list comprehension combines the elements of two lists if they are not equal:"
     ]
    },
    {
     "cell_type": "code",
     "collapsed": false,
     "input": [
      "[(x, y) for x in [1,2,3] for y in [3,1,4] if x != y]"
     ],
     "language": "python",
     "metadata": {},
     "outputs": []
    },
    {
     "cell_type": "markdown",
     "metadata": {},
     "source": [
      "and it\u2019s equivalent to:"
     ]
    },
    {
     "cell_type": "code",
     "collapsed": false,
     "input": [
      "combs = []\n",
      "for x in [1,2,3]:\n",
      "    for y in [3,1,4]:\n",
      "        if x != y:\n",
      "            combs.append((x, y))\n",
      "\n",
      "combs"
     ],
     "language": "python",
     "metadata": {},
     "outputs": []
    },
    {
     "cell_type": "markdown",
     "metadata": {},
     "source": [
      "Note how the order of the `for` and `if` statements is the same in both these snippets.\n",
      "\n",
      "If the expression is a tuple (e.g. the `(x, y)` in the previous example), it must be parenthesized."
     ]
    },
    {
     "cell_type": "code",
     "collapsed": false,
     "input": [
      "vec = [-4, -2, 0, 2, 4]\n",
      "\n",
      "# create a new list with the values doubled\n",
      "[x*2 for x in vec]"
     ],
     "language": "python",
     "metadata": {},
     "outputs": []
    },
    {
     "cell_type": "code",
     "collapsed": false,
     "input": [
      "# filter the list to exclude negative numbers\n",
      "[x for x in vec if x >= 0]\n"
     ],
     "language": "python",
     "metadata": {},
     "outputs": []
    },
    {
     "cell_type": "code",
     "collapsed": false,
     "input": [
      "# apply a function to all the elements\n",
      "[abs(x) for x in vec]\n"
     ],
     "language": "python",
     "metadata": {},
     "outputs": []
    },
    {
     "cell_type": "code",
     "collapsed": false,
     "input": [
      "# call a method on each element\n",
      "freshfruit = ['  banana', '  loganberry ', 'passion fruit  ']\n",
      "[weapon.strip() for weapon in freshfruit]\n"
     ],
     "language": "python",
     "metadata": {},
     "outputs": []
    },
    {
     "cell_type": "code",
     "collapsed": false,
     "input": [
      "# create a list of 2-tuples like (number, square)\n",
      "[(x, x**2) for x in range(6)]\n"
     ],
     "language": "python",
     "metadata": {},
     "outputs": []
    },
    {
     "cell_type": "code",
     "collapsed": false,
     "input": [
      "# the tuple must be parenthesized, otherwise an error is raised\n",
      "[x, x**2 for x in range(6)]\n",
      "  File \"<stdin>\", line 1\n",
      "    [x, x**2 for x in range(6)]"
     ],
     "language": "python",
     "metadata": {},
     "outputs": []
    },
    {
     "cell_type": "markdown",
     "metadata": {},
     "source": [
      "List comprehensions can contain complex expressions and nested functions:"
     ]
    },
    {
     "cell_type": "code",
     "collapsed": false,
     "input": [
      "from math import pi\n",
      "[str(round(pi, i)) for i in range(1, 6)]"
     ],
     "language": "python",
     "metadata": {},
     "outputs": []
    },
    {
     "cell_type": "markdown",
     "metadata": {},
     "source": [
      "-----\n",
      "## The `del` statement\n",
      "\n",
      "There is a way to remove an item from a list given its index instead of its value: the `del` statement. This differs from the `pop()` method which returns a value. The `del` statement can also be used to remove slices from a list or clear the entire list (which we did earlier by assignment of an empty list to the slice). For example:"
     ]
    },
    {
     "cell_type": "code",
     "collapsed": false,
     "input": [
      "a = [-1, 1, 66.25, 333, 333, 1234.5]\n",
      "del a[0]\n",
      "a"
     ],
     "language": "python",
     "metadata": {},
     "outputs": []
    },
    {
     "cell_type": "code",
     "collapsed": false,
     "input": [
      "del a[2:4]\n",
      "a"
     ],
     "language": "python",
     "metadata": {},
     "outputs": []
    },
    {
     "cell_type": "code",
     "collapsed": false,
     "input": [
      "del a[:]\n",
      "a"
     ],
     "language": "python",
     "metadata": {},
     "outputs": []
    },
    {
     "cell_type": "markdown",
     "metadata": {},
     "source": [
      "`del` can also be used to delete entire variables:"
     ]
    },
    {
     "cell_type": "code",
     "collapsed": false,
     "input": [
      "del a"
     ],
     "language": "python",
     "metadata": {},
     "outputs": []
    },
    {
     "cell_type": "markdown",
     "metadata": {},
     "source": [
      "Referencing the name `a` hereafter is an error (at least until another value is assigned to it). \n",
      "\n",
      "-----\n",
      "## Tuples and Sequences\n",
      "\n",
      "We saw that lists and strings have many common properties, such as indexing and slicing operations. They are two examples of sequence data types. Since Python is an evolving language, other sequence data types may be added. There is also another standard sequence data type: the *tuple*.\n",
      "\n",
      "A tuple consists of a number of values separated by commas, for instance:"
     ]
    },
    {
     "cell_type": "code",
     "collapsed": false,
     "input": [
      "t = 12345, 54321, 'hello!'\n",
      "t[0]"
     ],
     "language": "python",
     "metadata": {},
     "outputs": []
    },
    {
     "cell_type": "code",
     "collapsed": false,
     "input": [
      "t"
     ],
     "language": "python",
     "metadata": {},
     "outputs": []
    },
    {
     "cell_type": "code",
     "collapsed": false,
     "input": [
      "# Tuples may be nested:\n",
      "u = t, (1, 2, 3, 4, 5)\n",
      "u"
     ],
     "language": "python",
     "metadata": {},
     "outputs": []
    },
    {
     "cell_type": "code",
     "collapsed": false,
     "input": [
      "# Tuples are immutable:\n",
      "t[0] = 88888"
     ],
     "language": "python",
     "metadata": {},
     "outputs": []
    },
    {
     "cell_type": "code",
     "collapsed": false,
     "input": [
      "# but they can contain mutable objects:\n",
      "v = ([1, 2, 3], [3, 2, 1])\n",
      "v"
     ],
     "language": "python",
     "metadata": {},
     "outputs": []
    },
    {
     "cell_type": "markdown",
     "metadata": {},
     "source": [
      "As you see, on output tuples are always enclosed in parentheses, so that nested tuples are interpreted correctly; they may be input with or without surrounding parentheses, although often parentheses are necessary anyway (if the tuple is part of a larger expression). It is not possible to assign to the individual items of a tuple, however it is possible to create tuples which contain mutable objects, such as lists.\n",
      "\n",
      "Though tuples may seem similar to lists, they are often used in different situations and for different purposes. Tuples are [*immutable*](http://docs.python.org/glossary.html#term-immutable), and usually contain an heterogeneous sequence of elements that are accessed via unpacking (see later in this section) or indexing (or even by attribute in the case of [`namedtuples`](http://docs.python.org/library/collections.html#collections.namedtuple)). Lists are [mutable](http://docs.python.org/glossary.html#term-mutable), and their elements are usually homogeneous and are accessed by iterating over the list.\n",
      "\n",
      "A special problem is the construction of tuples containing 0 or 1 items: the syntax has some extra quirks to accommodate these. Empty tuples are constructed by an empty pair of parentheses; a tuple with one item is constructed by following a value with a comma (it is not sufficient to enclose a single value in parentheses). Ugly, but effective. For example:"
     ]
    },
    {
     "cell_type": "code",
     "collapsed": false,
     "input": [
      "empty = ()\n",
      "singleton = 'hello',    # <-- note trailing comma\n",
      "len(empty)"
     ],
     "language": "python",
     "metadata": {},
     "outputs": []
    },
    {
     "cell_type": "code",
     "collapsed": false,
     "input": [
      "len(singleton)"
     ],
     "language": "python",
     "metadata": {},
     "outputs": []
    },
    {
     "cell_type": "code",
     "collapsed": false,
     "input": [
      "singleton"
     ],
     "language": "python",
     "metadata": {},
     "outputs": []
    },
    {
     "cell_type": "markdown",
     "metadata": {},
     "source": [
      "The statement `t = 12345, 54321, 'hello!'` is an example of tuple packing: the values `12345`, `54321` and `'hello!'` are packed together in a tuple. The reverse operation is also possible:"
     ]
    },
    {
     "cell_type": "code",
     "collapsed": false,
     "input": [
      "x, y, z = t\n",
      "print 'x is:', x\n",
      "print 'y is:', y\n",
      "print 'z is:', z"
     ],
     "language": "python",
     "metadata": {},
     "outputs": []
    },
    {
     "cell_type": "markdown",
     "metadata": {},
     "source": [
      "This is called, appropriately enough, *sequence unpacking* and works for any sequence on the right-hand side. Sequence unpacking requires the list of variables on the left to have the same number of elements as the length of the sequence. Note that multiple assignment is really just a combination of tuple packing and sequence unpacking.\n",
      "\n",
      "-----\n",
      "## Sets\n",
      "\n",
      "Python also includes a data type for *sets*. A set is an unordered collection with no duplicate elements. Basic uses include membership testing and eliminating duplicate entries. Set objects also support mathematical operations like union, intersection, difference, and symmetric difference.\n",
      "\n",
      "Here is a brief demonstration:"
     ]
    },
    {
     "cell_type": "code",
     "collapsed": false,
     "input": [
      "basket = ['apple', 'orange', 'apple', 'pear', 'orange', 'banana']\n",
      "fruit = set(basket)               # create a set without duplicates\n",
      "fruit"
     ],
     "language": "python",
     "metadata": {},
     "outputs": []
    },
    {
     "cell_type": "code",
     "collapsed": false,
     "input": [
      "'orange' in fruit                 # fast membership testing"
     ],
     "language": "python",
     "metadata": {},
     "outputs": []
    },
    {
     "cell_type": "code",
     "collapsed": false,
     "input": [
      "'crabgrass' in fruit"
     ],
     "language": "python",
     "metadata": {},
     "outputs": []
    },
    {
     "cell_type": "code",
     "collapsed": false,
     "input": [
      "# Demonstrate set operations on unique letters from two words\n",
      "\n",
      "a = set('abracadabra')\n",
      "b = set('alacazam')\n",
      "a                                  # unique letters in a"
     ],
     "language": "python",
     "metadata": {},
     "outputs": []
    },
    {
     "cell_type": "code",
     "collapsed": false,
     "input": [
      "a - b                              # letters in a but not in b"
     ],
     "language": "python",
     "metadata": {},
     "outputs": []
    },
    {
     "cell_type": "code",
     "collapsed": false,
     "input": [
      "a | b                              # letters in either a or b"
     ],
     "language": "python",
     "metadata": {},
     "outputs": []
    },
    {
     "cell_type": "code",
     "collapsed": false,
     "input": [
      "a & b                              # letters in both a and b"
     ],
     "language": "python",
     "metadata": {},
     "outputs": []
    },
    {
     "cell_type": "code",
     "collapsed": false,
     "input": [
      "a ^ b                              # letters in a or b but not both"
     ],
     "language": "python",
     "metadata": {},
     "outputs": []
    },
    {
     "cell_type": "markdown",
     "metadata": {},
     "source": [
      "-----\n",
      "## Dictionaries\n",
      "\n",
      "Another useful data type built into Python is the dictionary. Dictionaries are sometimes found in other languages as \"associative memories\" or \"associative arrays\". Unlike sequences, which are indexed by a range of numbers, dictionaries are indexed by keys, which can be any immutable type; strings and numbers can always be *keys*. Tuples can be used as keys if they contain only strings, numbers, or tuples; if a tuple contains any mutable object either directly or indirectly, it cannot be used as a key. You can\u2019t use lists as keys, since lists can be modified in place using index assignments, slice assignments, or methods like `append()` and `extend()`.\n",
      "\n",
      "It is best to think of a dictionary as an unordered set of *key: value* pairs, with the requirement that the keys are unique (within one dictionary). A pair of braces creates an empty dictionary: `{}`. Placing a comma-separated list of key:value pairs within the braces adds initial key:value pairs to the dictionary; this is also the way dictionaries are written on output.\n",
      "\n",
      "The main operations on a dictionary are storing a value with some key and extracting the value given the key. It is also possible to delete a key:value pair with `del`. If you store using a key that is already in use, the old value associated with that key is forgotten. It is an error to extract a value using a non-existent key.\n",
      "\n",
      "The `keys()` method of a dictionary object returns a list of all the keys used in the dictionary, in arbitrary order (if you want it sorted, just apply the `sorted()` function to it). To check whether a single key is in the dictionary, use the `in` keyword.\n",
      "\n",
      "Here is a small example using a dictionary:"
     ]
    },
    {
     "cell_type": "code",
     "collapsed": false,
     "input": [
      "tel = {'jack': 4098, 'sape': 4139}\n",
      "tel['guido'] = 4127\n",
      "tel"
     ],
     "language": "python",
     "metadata": {},
     "outputs": []
    },
    {
     "cell_type": "code",
     "collapsed": false,
     "input": [
      "tel['jack']"
     ],
     "language": "python",
     "metadata": {},
     "outputs": []
    },
    {
     "cell_type": "code",
     "collapsed": false,
     "input": [
      "del tel['sape']\n",
      "tel['irv'] = 4127\n",
      "tel"
     ],
     "language": "python",
     "metadata": {},
     "outputs": []
    },
    {
     "cell_type": "code",
     "collapsed": false,
     "input": [
      "tel.keys()"
     ],
     "language": "python",
     "metadata": {},
     "outputs": []
    },
    {
     "cell_type": "code",
     "collapsed": false,
     "input": [
      "'guido' in tel"
     ],
     "language": "python",
     "metadata": {},
     "outputs": []
    },
    {
     "cell_type": "markdown",
     "metadata": {},
     "source": [
      "The `dict()` constructor builds dictionaries directly from lists of key-value pairs stored as tuples. When the pairs form a pattern, list comprehensions can compactly specify the key-value list."
     ]
    },
    {
     "cell_type": "code",
     "collapsed": false,
     "input": [
      "dict([('sape', 4139), ('guido', 4127), ('jack', 4098)])"
     ],
     "language": "python",
     "metadata": {},
     "outputs": []
    },
    {
     "cell_type": "code",
     "collapsed": false,
     "input": [
      "dict([(x, x**2) for x in (2, 4, 6)])     # use a list comprehension"
     ],
     "language": "python",
     "metadata": {},
     "outputs": []
    },
    {
     "cell_type": "markdown",
     "metadata": {},
     "source": [
      "When the keys are simple strings, it is sometimes easier to specify pairs using keyword arguments:"
     ]
    },
    {
     "cell_type": "code",
     "collapsed": false,
     "input": [
      "dict(sape=4139, guido=4127, jack=4098)"
     ],
     "language": "python",
     "metadata": {},
     "outputs": []
    },
    {
     "cell_type": "markdown",
     "metadata": {},
     "source": [
      "-----\n",
      "## Looping Techniques\n",
      "\n",
      "When looping through a sequence, the position index and crresponding value can be retrieved at the same time using the `enumerate()` function."
     ]
    },
    {
     "cell_type": "code",
     "collapsed": false,
     "input": [
      "for i, v in enumerate(['tic', 'tac', 'toe']):\n",
      "    print i, v"
     ],
     "language": "python",
     "metadata": {},
     "outputs": []
    },
    {
     "cell_type": "markdown",
     "metadata": {},
     "source": [
      "To loop over two or more sequences at the same time, the entries can be paired with the `zip()` function."
     ]
    },
    {
     "cell_type": "code",
     "collapsed": false,
     "input": [
      "questions = ['name', 'quest', 'favorite color']\n",
      "answers = ['lancelot', 'the holy grail', 'blue']\n",
      "for q, a in zip(questions, answers):\n",
      "    print 'What is your {0}?  It is {1}.'.format(q, a)"
     ],
     "language": "python",
     "metadata": {},
     "outputs": []
    },
    {
     "cell_type": "markdown",
     "metadata": {},
     "source": [
      "To loop over a sequence in reverse, first specify the sequence in a forward direction and then call the `reverse()` function."
     ]
    },
    {
     "cell_type": "code",
     "collapsed": false,
     "input": [
      "for i in reversed(range(1, 10, 2)):\n",
      "    print i"
     ],
     "language": "python",
     "metadata": {},
     "outputs": []
    },
    {
     "cell_type": "markdown",
     "metadata": {},
     "source": [
      "Alternatively, you can create an slice that does the same thing:"
     ]
    },
    {
     "cell_type": "code",
     "collapsed": false,
     "input": [
      "for i in range(1, 10, 2)[::-1]:\n",
      "    print i"
     ],
     "language": "python",
     "metadata": {},
     "outputs": []
    },
    {
     "cell_type": "markdown",
     "metadata": {},
     "source": [
      "To loop over a sequence in sorted order, use the `sorted()` function which returns a new sorted list while leaving the source unaltered."
     ]
    },
    {
     "cell_type": "code",
     "collapsed": false,
     "input": [
      "basket = ['apple', 'orange', 'apple', 'pear', 'orange', 'banana']\n",
      "for f in sorted(set(basket)):\n",
      "    print f"
     ],
     "language": "python",
     "metadata": {},
     "outputs": []
    },
    {
     "cell_type": "markdown",
     "metadata": {},
     "source": [
      "When looping through dictionaries, the key and corresponding value can be retrieved at the same time using the `iteritems()` method."
     ]
    },
    {
     "cell_type": "code",
     "collapsed": false,
     "input": [
      "knights = {'gallahad': 'the pure', 'robin': 'the brave'}\n",
      "for k, v in knights.iteritems():\n",
      "    print k, v"
     ],
     "language": "python",
     "metadata": {},
     "outputs": []
    },
    {
     "cell_type": "markdown",
     "metadata": {},
     "source": [
      "-----\n",
      "## More on Conditions\n",
      "\n",
      "The conditions used in `while` and `if` statements can contain any operators, not just comparisons.\n",
      "\n",
      "The comparison operators `in` and `not in` check whether a value occurs (does not occur) in a sequence. The operators `is` and `is not` compare whether two objects are really the same object; this only matters for mutable objects like lists. All comparison operators have the same priority, which is lower than that of all numerical operators.\n",
      "\n",
      "Comparisons can be chained. For example, `a < b == c` tests whether `a` is less than `b` and moreover `b equals c`.\n",
      "\n",
      "Comparisons may be combined using the Boolean operators `and` and `or`, and the outcome of a comparison (or of any other Boolean expression) may be negated with `not`. These have lower priorities than comparison operators; between them, `not` has the highest priority and `or` the lowest, so that `A and not B or C` is equivalent to `(A and (not B)) or C`. As always, parentheses can be used to express the desired composition.\n",
      "\n",
      "The Boolean operators `and` and `or` are so-called *short-circuit* operators: their arguments are evaluated from left to right, and evaluation stops as soon as the outcome is determined. For example, if `A` and `C` are true but B is false, `A and B and C` does not evaluate the expression `C`. When used as a general value and not as a Boolean, the return value of a short-circuit operator is the last evaluated argument.\n",
      "\n",
      "It is possible to assign the result of a comparison or other Boolean expression to a variable. For example,"
     ]
    },
    {
     "cell_type": "code",
     "collapsed": false,
     "input": [
      "string1, string2, string3 = '', 'Trondheim', 'Hammer Dance'\n",
      "non_null = string1 or string2 or string3\n",
      "non_null"
     ],
     "language": "python",
     "metadata": {},
     "outputs": []
    },
    {
     "cell_type": "markdown",
     "metadata": {},
     "source": [
      "Note that in Python, unlike C, assignment cannot occur inside expressions. C programmers may grumble about this, but it avoids a common class of problems encountered in C programs: typing `=` in an expression when `==` was intended."
     ]
    }
   ],
   "metadata": {}
  }
 ]
}